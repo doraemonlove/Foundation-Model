{
 "cells": [
  {
   "cell_type": "code",
   "execution_count": 6,
   "metadata": {},
   "outputs": [],
   "source": [
    "import os\n",
    "import torch\n",
    "import pandas as pd"
   ]
  },
  {
   "cell_type": "code",
   "execution_count": 5,
   "metadata": {},
   "outputs": [
    {
     "name": "stdout",
     "output_type": "stream",
     "text": [
      "1\n"
     ]
    }
   ],
   "source": [
    "os.environ[\"CUDA_VISIBLE_DEVICES\"] = \"1\"  # 指定使用第0个GPU\n",
    "print(torch.cuda.device_count())  # 输出可用的 GPU 数量"
   ]
  },
  {
   "cell_type": "code",
   "execution_count": 7,
   "metadata": {},
   "outputs": [],
   "source": [
    "# 读取数据\n",
    "df = pd.read_csv(\"/home/zhupengtian/zhangqingliang/granite-tsfm/datasets/electricity_load.csv\")\n",
    "\n",
    "# 确保 datetime 列为 datetime 格式\n",
    "df['datetime'] = pd.to_datetime(df['datetime'])\n",
    "\n",
    "# 设置 datetime 列为索引\n",
    "df.set_index('datetime', inplace=True)"
   ]
  },
  {
   "cell_type": "code",
   "execution_count": 8,
   "metadata": {},
   "outputs": [],
   "source": [
    "\n",
    "# 选择每天同一时刻的数据\n",
    "# 例如，选择每天的 12:00:00（中午12点）\n",
    "daily_time = '12:00:00'\n",
    "daily_df = df[df.index.time == pd.to_datetime(daily_time).time()]\n",
    "\n",
    "# 将每日数据保存为 CSV 文件\n",
    "daily_df.to_csv(\"/home/zhupengtian/zhangqingliang/granite-tsfm/datasets/electricity_load_daily.csv\")"
   ]
  },
  {
   "cell_type": "code",
   "execution_count": 9,
   "metadata": {},
   "outputs": [],
   "source": [
    "\n",
    "# 生成每周数据集\n",
    "# 在这里，我们可以使用 `resample` 将其按周采样\n",
    "weekly_df = daily_df.resample('W-MON').first()  # 每周的第一个样本（周一）\n",
    "\n",
    "# 将每周数据保存为 CSV 文件\n",
    "weekly_df.to_csv(\"/home/zhupengtian/zhangqingliang/granite-tsfm/datasets/electricity_load_weekly.csv\")"
   ]
  },
  {
   "cell_type": "code",
   "execution_count": 3,
   "metadata": {},
   "outputs": [
    {
     "name": "stdout",
     "output_type": "stream",
     "text": [
      "原始数据：\n",
      "            date  nat_demand    T2M_toc  QV2M_toc   TQL_toc    W2M_toc  \\\n",
      "0  2015-1-3 1:00    970.3450  25.865259  0.018576  0.016174  21.850546   \n",
      "1  2015-1-3 2:00    912.1755  25.899255  0.018653  0.016418  22.166944   \n",
      "2  2015-1-3 3:00    900.2688  25.937280  0.018768  0.015480  22.454911   \n",
      "3  2015-1-3 4:00    889.9538  25.957544  0.018890  0.016273  22.110481   \n",
      "4  2015-1-3 5:00    893.6865  25.973840  0.018981  0.017281  21.186089   \n",
      "\n",
      "     T2M_san  QV2M_san   TQL_san    W2M_san    T2M_dav  QV2M_dav   TQL_dav  \\\n",
      "0  23.482446  0.017272  0.001855  10.328949  22.662134  0.016562  0.096100   \n",
      "1  23.399255  0.017265  0.001327  10.681517  22.578943  0.016509  0.087646   \n",
      "2  23.343530  0.017211  0.001428  10.874924  22.531030  0.016479  0.078735   \n",
      "3  23.238794  0.017128  0.002599  10.518620  22.512231  0.016487  0.068390   \n",
      "4  23.075403  0.017059  0.001729   9.733589  22.481653  0.016456  0.064362   \n",
      "\n",
      "    W2M_dav  Holiday_ID  holiday  school  \n",
      "0  5.364148         0.0      0.0     0.0  \n",
      "1  5.572471         0.0      0.0     0.0  \n",
      "2  5.871184         0.0      0.0     0.0  \n",
      "3  5.883621         0.0      0.0     0.0  \n",
      "4  5.611724         0.0      0.0     0.0  \n",
      "处理后的数据：\n",
      "            date  nat_demand    T2M_toc  QV2M_toc   TQL_toc    W2M_toc  \\\n",
      "0  2015-1-3 1:00    970.3450  25.865259  0.018576  0.016174  21.850546   \n",
      "1  2015-1-3 2:00    912.1755  25.899255  0.018653  0.016418  22.166944   \n",
      "2  2015-1-3 3:00    900.2688  25.937280  0.018768  0.015480  22.454911   \n",
      "3  2015-1-3 4:00    889.9538  25.957544  0.018890  0.016273  22.110481   \n",
      "4  2015-1-3 5:00    893.6865  25.973840  0.018981  0.017281  21.186089   \n",
      "\n",
      "     T2M_san  QV2M_san   TQL_san    W2M_san    T2M_dav  QV2M_dav   TQL_dav  \\\n",
      "0  23.482446  0.017272  0.001855  10.328949  22.662134  0.016562  0.096100   \n",
      "1  23.399255  0.017265  0.001327  10.681517  22.578943  0.016509  0.087646   \n",
      "2  23.343530  0.017211  0.001428  10.874924  22.531030  0.016479  0.078735   \n",
      "3  23.238794  0.017128  0.002599  10.518620  22.512231  0.016487  0.068390   \n",
      "4  23.075403  0.017059  0.001729   9.733589  22.481653  0.016456  0.064362   \n",
      "\n",
      "    W2M_dav  Holiday_ID  holiday  school  \n",
      "0  5.364148       0.001    0.001   0.001  \n",
      "1  5.572471       0.001    0.001   0.001  \n",
      "2  5.871184       0.001    0.001   0.001  \n",
      "3  5.883621       0.001    0.001   0.001  \n",
      "4  5.611724       0.001    0.001   0.001  \n"
     ]
    }
   ],
   "source": [
    "import pandas as pd\n",
    "\n",
    "# 假设数据已经加载到 DataFrame df 中\n",
    "df = pd.read_csv('/home/zhupengtian/zhangqingliang/granite-tsfm/datasets/electricity/electricity.csv')\n",
    "\n",
    "# 查看前几行数据\n",
    "print(\"原始数据：\")\n",
    "print(df.head())\n",
    "\n",
    "# 将Holiday_ID, holiday, school三列的0值替换为0.001\n",
    "df[['Holiday_ID', 'holiday', 'school']] = df[['Holiday_ID', 'holiday', 'school']].replace(0, 0.001)\n",
    "\n",
    "df.to_csv('/home/zhupengtian/zhangqingliang/granite-tsfm/datasets/electricity/electricity.csv', index=False)\n",
    "\n",
    "# 查看替换后的数据\n",
    "print(\"处理后的数据：\")\n",
    "print(df.head())\n"
   ]
  },
  {
   "cell_type": "code",
   "execution_count": null,
   "metadata": {},
   "outputs": [],
   "source": [
    "    "
   ]
  }
 ],
 "metadata": {
  "kernelspec": {
   "display_name": "zql_se",
   "language": "python",
   "name": "python3"
  },
  "language_info": {
   "codemirror_mode": {
    "name": "ipython",
    "version": 3
   },
   "file_extension": ".py",
   "mimetype": "text/x-python",
   "name": "python",
   "nbconvert_exporter": "python",
   "pygments_lexer": "ipython3",
   "version": "3.9.20"
  }
 },
 "nbformat": 4,
 "nbformat_minor": 2
}
